{
 "cells": [
  {
   "cell_type": "code",
   "execution_count": 1,
   "id": "1fbbe1dd",
   "metadata": {},
   "outputs": [],
   "source": [
    "from sklearn import tree\n",
    "from sklearn.datasets import load_files\n",
    "import numpy as np\n",
    "import matplotlib.pyplot as plt\n",
    "from PIL import Image\n",
    "\n",
    "from preprocess import file_to_feature_vector"
   ]
  },
  {
   "cell_type": "code",
   "execution_count": 2,
   "id": "57a53dad",
   "metadata": {},
   "outputs": [],
   "source": [
    "# automatically reload imported files when they change\n",
    "%load_ext autoreload\n",
    "%autoreload 1"
   ]
  },
  {
   "cell_type": "code",
   "execution_count": 3,
   "id": "e8320198",
   "metadata": {},
   "outputs": [],
   "source": [
    "# deterministic, it seems\n",
    "files = load_files('./avatars', load_content=False)"
   ]
  },
  {
   "cell_type": "code",
   "execution_count": 4,
   "id": "aa8b6469",
   "metadata": {},
   "outputs": [
    {
     "data": {
      "text/plain": [
       "dict_keys(['filenames', 'target_names', 'target', 'DESCR'])"
      ]
     },
     "execution_count": 4,
     "metadata": {},
     "output_type": "execute_result"
    }
   ],
   "source": [
    "files.keys()"
   ]
  },
  {
   "cell_type": "code",
   "execution_count": 5,
   "id": "6e525e6d",
   "metadata": {
    "scrolled": true
   },
   "outputs": [
    {
     "data": {
      "text/plain": [
       "(array(['./avatars/custom/emmas.png', './avatars/default/saxe.png',\n",
       "        './avatars/default/cava.png', './avatars/default/awner.png',\n",
       "        './avatars/default/sophs.png'], dtype='<U27'),\n",
       " ['custom', 'default'],\n",
       " array([0, 1, 1, 1, 1, 1, 0, 1, 0, 1]))"
      ]
     },
     "execution_count": 5,
     "metadata": {},
     "output_type": "execute_result"
    }
   ],
   "source": [
    "# labels\n",
    "files[\"filenames\"][0:5], files[\"target_names\"], files[\"target\"][0:10]"
   ]
  },
  {
   "cell_type": "code",
   "execution_count": 8,
   "id": "0236c228",
   "metadata": {},
   "outputs": [
    {
     "data": {
      "text/plain": [
       "['custom', 'default']"
      ]
     },
     "execution_count": 8,
     "metadata": {},
     "output_type": "execute_result"
    }
   ],
   "source": [
    "# folder names\n",
    "files[\"target_names\"]"
   ]
  },
  {
   "cell_type": "code",
   "execution_count": 9,
   "id": "1b7fa17f",
   "metadata": {},
   "outputs": [
    {
     "data": {
      "text/plain": [
       "[[0, 210],\n",
       " [166, 2],\n",
       " [132, 2],\n",
       " [120, 2],\n",
       " [160, 2],\n",
       " [138, 2],\n",
       " [0, 154],\n",
       " [108, 2],\n",
       " [0, 250],\n",
       " [132, 2],\n",
       " [0, 58],\n",
       " [72, 2],\n",
       " [178, 2],\n",
       " [162, 2],\n",
       " [0, 54],\n",
       " [0, 55],\n",
       " [0, 210],\n",
       " [180, 2],\n",
       " [0, 255],\n",
       " [1, 103],\n",
       " [160, 2],\n",
       " [130, 2],\n",
       " [0, 255],\n",
       " [106, 2],\n",
       " [0, 252],\n",
       " [184, 2],\n",
       " [192, 2],\n",
       " [154, 2],\n",
       " [154, 2],\n",
       " [0, 1],\n",
       " [0, 250],\n",
       " [0, 255],\n",
       " [192, 2],\n",
       " [162, 2],\n",
       " [0, 242],\n",
       " [126, 2],\n",
       " [130, 2],\n",
       " [0, 223],\n",
       " [0, 243],\n",
       " [192, 2],\n",
       " [150, 2],\n",
       " [0, 12],\n",
       " [0, 254],\n",
       " [144, 2],\n",
       " [156, 2],\n",
       " [0, 146],\n",
       " [0, 254],\n",
       " [0, 245],\n",
       " [148, 2],\n",
       " [142, 2],\n",
       " [0, 218],\n",
       " [174, 2],\n",
       " [166, 2],\n",
       " [166, 2],\n",
       " [126, 2],\n",
       " [0, 205],\n",
       " [0, 149],\n",
       " [180, 2],\n",
       " [1, 47],\n",
       " [0, 7],\n",
       " [180, 2],\n",
       " [114, 2],\n",
       " [150, 2],\n",
       " [0, 236],\n",
       " [162, 2],\n",
       " [138, 2],\n",
       " [0, 253],\n",
       " [124, 2],\n",
       " [0, 243],\n",
       " [0, 225],\n",
       " [168, 2],\n",
       " [84, 2],\n",
       " [174, 2],\n",
       " [208, 2],\n",
       " [154, 2],\n",
       " [154, 2],\n",
       " [84, 2],\n",
       " [0, 64],\n",
       " [0, 242],\n",
       " [106, 2],\n",
       " [184, 2],\n",
       " [0, 171],\n",
       " [196, 2],\n",
       " [142, 2],\n",
       " [154, 2],\n",
       " [2, 231],\n",
       " [0, 53],\n",
       " [0, 216],\n",
       " [148, 2],\n",
       " [120, 2],\n",
       " [0, 221],\n",
       " [0, 253],\n",
       " [138, 2],\n",
       " [0, 82],\n",
       " [192, 2],\n",
       " [160, 2],\n",
       " [138, 2],\n",
       " [160, 2],\n",
       " [184, 2],\n",
       " [132, 2],\n",
       " [174, 2],\n",
       " [148, 2],\n",
       " [0, 250],\n",
       " [0, 256],\n",
       " [148, 2],\n",
       " [144, 2],\n",
       " [150, 2],\n",
       " [0, 229],\n",
       " [186, 2],\n",
       " [0, 254],\n",
       " [0, 125],\n",
       " [0, 254],\n",
       " [0, 5],\n",
       " [1, 160],\n",
       " [0, 229],\n",
       " [166, 2],\n",
       " [0, 12],\n",
       " [154, 2],\n",
       " [168, 2],\n",
       " [0, 239],\n",
       " [0, 190],\n",
       " [0, 250],\n",
       " [118, 2],\n",
       " [0, 4],\n",
       " [174, 2],\n",
       " [0, 17],\n",
       " [0, 212],\n",
       " [132, 2],\n",
       " [94, 2],\n",
       " [180, 2],\n",
       " [0, 131],\n",
       " [0, 58],\n",
       " [2, 52],\n",
       " [168, 2],\n",
       " [156, 2],\n",
       " [130, 2],\n",
       " [196, 2],\n",
       " [196, 2],\n",
       " [96, 2],\n",
       " [0, 9],\n",
       " [144, 2],\n",
       " [162, 2],\n",
       " [0, 241],\n",
       " [0, 234],\n",
       " [0, 256],\n",
       " [0, 125],\n",
       " [178, 2],\n",
       " [168, 2],\n",
       " [0, 251],\n",
       " [172, 2],\n",
       " [184, 2],\n",
       " [160, 2],\n",
       " [0, 102],\n",
       " [0, 254],\n",
       " [150, 2],\n",
       " [0, 200],\n",
       " [118, 2],\n",
       " [210, 2],\n",
       " [0, 205],\n",
       " [0, 249],\n",
       " [162, 2],\n",
       " [138, 2],\n",
       " [0, 133],\n",
       " [114, 2],\n",
       " [166, 2],\n",
       " [166, 2],\n",
       " [0, 3],\n",
       " [162, 2],\n",
       " [160, 2],\n",
       " [190, 2],\n",
       " [0, 94],\n",
       " [148, 2],\n",
       " [3, 71],\n",
       " [0, 236],\n",
       " [138, 2],\n",
       " [178, 2],\n",
       " [144, 2],\n",
       " [0, 53],\n",
       " [0, 252],\n",
       " [0, 228],\n",
       " [130, 2],\n",
       " [1, 157],\n",
       " [126, 2],\n",
       " [138, 2],\n",
       " [180, 2],\n",
       " [0, 132],\n",
       " [2, 95],\n",
       " [154, 2],\n",
       " [0, 11],\n",
       " [0, 133],\n",
       " [0, 5],\n",
       " [0, 177],\n",
       " [0, 231],\n",
       " [0, 17],\n",
       " [136, 2],\n",
       " [0, 4],\n",
       " [150, 2],\n",
       " [106, 2],\n",
       " [0, 104],\n",
       " [144, 2]]"
      ]
     },
     "execution_count": 9,
     "metadata": {},
     "output_type": "execute_result"
    }
   ],
   "source": [
    "examples = [file_to_feature_vector(path) for path in files[\"filenames\"]]\n",
    "\n",
    "examples"
   ]
  },
  {
   "cell_type": "code",
   "execution_count": 10,
   "id": "16a5ce4f",
   "metadata": {},
   "outputs": [
    {
     "data": {
      "text/plain": [
       "[100, 100, 100, 100]"
      ]
     },
     "execution_count": 10,
     "metadata": {},
     "output_type": "execute_result"
    }
   ],
   "source": [
    "# split our examples and labels into a \"training\" set and a \"validation\" set\n",
    "# use part of our dataset as a \"holdout set\" during training to get a sense of how it will work on real images\n",
    "\n",
    "# (sometimes there's a \"test\" set that's used when you're developing the model to avoid overoptimizing \n",
    "# for the validation set, but we're not using it.)\n",
    "\n",
    "# we'll use half as training, half as validation\n",
    "\n",
    "# TODO: considering balancing these sets so they have an equal number of default and custom avatars\n",
    "\n",
    "training_set = examples[0:len(examples)//2]\n",
    "validation_set = examples[len(examples)//2:]\n",
    "\n",
    "labels = files[\"target\"]\n",
    "training_labels = labels[0:len(labels)//2]\n",
    "validation_labels = labels[len(labels)//2:]\n",
    "\n",
    "[len(training_set), len(validation_set), len(training_labels), len(validation_labels)]\n"
   ]
  },
  {
   "cell_type": "code",
   "execution_count": 11,
   "id": "c1334e1e",
   "metadata": {},
   "outputs": [
    {
     "data": {
      "text/plain": [
       "[Text(167.4, 163.07999999999998, 'X[0] <= 37.0\\ngini = 0.48\\nsamples = 100\\nvalue = [40, 60]'),\n",
       " Text(83.7, 54.360000000000014, 'gini = 0.0\\nsamples = 40\\nvalue = [40, 0]'),\n",
       " Text(251.10000000000002, 54.360000000000014, 'gini = 0.0\\nsamples = 60\\nvalue = [0, 60]')]"
      ]
     },
     "execution_count": 11,
     "metadata": {},
     "output_type": "execute_result"
    },
    {
     "data": {
      "image/png": "[encoded data removed]",
      "text/plain": [
       "<Figure size 432x288 with 1 Axes>"
      ]
     },
     "metadata": {
      "needs_background": "light"
     },
     "output_type": "display_data"
    }
   ],
   "source": [
    "# find the feature and the threshold that best splits this into two classes\n",
    "\n",
    "# go through all the examples. for all of the two features we have.\n",
    "\n",
    "# Try a threshold until it finds a value that most cleanly splits the data.\n",
    "\n",
    "# start with a simple decision tree\n",
    "# looks at all the data, finds the split that makes one group have most of one label, and another\n",
    "# group have most of another label\n",
    "\n",
    "# (if that is the most discriminating feature that can split that feature into two, it picks that feature))\n",
    "\n",
    "# find the feature that splits it most coherently into two groups\n",
    "# then find the second-most splitting feature\n",
    "\n",
    "clf = tree.DecisionTreeClassifier()\n",
    "clf = clf.fit(training_set, training_labels)\n",
    "tree.plot_tree(clf)"
   ]
  },
  {
   "cell_type": "code",
   "execution_count": 12,
   "id": "4d4e509b",
   "metadata": {},
   "outputs": [
    {
     "data": {
      "text/plain": [
       "1"
      ]
     },
     "execution_count": 12,
     "metadata": {},
     "output_type": "execute_result"
    }
   ],
   "source": [
    "# gini coefficient: goodness measure of how coherent the two groups are (zero is perfect, one (or 0.5?) is useless)\n",
    "# it's what the decision tree uses to determine how to split\n",
    "\n",
    "# throw all of the validation examples through the tree and see which nodes they end up with\n",
    "prediction = clf.predict(validation_set[:1])[0]\n",
    "prediction"
   ]
  },
  {
   "cell_type": "code",
   "execution_count": 13,
   "id": "96e8a4c1",
   "metadata": {},
   "outputs": [
    {
     "data": {
      "text/plain": [
       "array([1, 1, 0, 0, 1, 1, 1, 0, 1, 0, 0, 0, 0, 0, 0, 1, 0, 1, 1, 0, 0, 0,\n",
       "       1, 0, 1, 0, 0, 1, 1, 1, 0, 0, 0, 1, 1, 1, 1, 1, 1, 0, 1, 1, 0, 0,\n",
       "       0, 0, 1, 1, 0, 1, 1, 1, 0, 0, 1, 0, 1, 1, 0, 0, 1, 1, 0, 1, 1, 1,\n",
       "       0, 1, 1, 1, 0, 1, 0, 0, 1, 1, 1, 0, 0, 0, 1, 0, 1, 1, 1, 0, 0, 1,\n",
       "       0, 0, 0, 0, 0, 0, 1, 0, 1, 1, 0, 1])"
      ]
     },
     "execution_count": 13,
     "metadata": {},
     "output_type": "execute_result"
    }
   ],
   "source": [
    "predictions = clf.predict(validation_set)\n",
    "predictions"
   ]
  },
  {
   "cell_type": "code",
   "execution_count": 14,
   "id": "15b7f378",
   "metadata": {},
   "outputs": [
    {
     "data": {
      "text/plain": [
       "array([], dtype=int64)"
      ]
     },
     "execution_count": 14,
     "metadata": {},
     "output_type": "execute_result"
    }
   ],
   "source": [
    "# indices of avatars that are actually defaults but are classified as custom\n",
    "\n",
    "# single &: elementwise boolean AND of vectors of matrices\n",
    "\n",
    "# 1: default\n",
    "# 0: custom\n",
    "\n",
    "false_customs = np.where((predictions != validation_labels)&(validation_labels == 1))[0]\n",
    "false_customs"
   ]
  },
  {
   "cell_type": "code",
   "execution_count": 15,
   "id": "666f366f",
   "metadata": {},
   "outputs": [
    {
     "data": {
      "text/plain": [
       "array([], dtype=int64)"
      ]
     },
     "execution_count": 15,
     "metadata": {},
     "output_type": "execute_result"
    }
   ],
   "source": [
    "# indices of avatars that are actually customs but are classified as defaults\n",
    "# 1: default\n",
    "# 0: custom\n",
    "\n",
    "false_defaults = np.where((predictions != validation_labels)&(validation_labels == 0))[0]\n",
    "false_defaults"
   ]
  },
  {
   "cell_type": "code",
   "execution_count": 16,
   "id": "6356c9c2",
   "metadata": {},
   "outputs": [
    {
     "data": {
      "text/plain": [
       "1.0"
      ]
     },
     "execution_count": 16,
     "metadata": {},
     "output_type": "execute_result"
    }
   ],
   "source": [
    "# what's our accuracy?\n",
    "np.mean(np.equal(predictions, validation_labels))"
   ]
  },
  {
   "cell_type": "code",
   "execution_count": 17,
   "id": "40f00ac1",
   "metadata": {},
   "outputs": [
    {
     "data": {
      "text/plain": [
       "0"
      ]
     },
     "execution_count": 17,
     "metadata": {},
     "output_type": "execute_result"
    }
   ],
   "source": [
    "# try it out on a custom avatar\n",
    "feature_vector = file_to_feature_vector(\"smoke-tests/andreasjansson.png\")\n",
    "prediction = clf.predict([feature_vector])[0]\n",
    "prediction"
   ]
  },
  {
   "cell_type": "code",
   "execution_count": 18,
   "id": "59e901a2",
   "metadata": {},
   "outputs": [
    {
     "data": {
      "text/plain": [
       "1"
      ]
     },
     "execution_count": 18,
     "metadata": {},
     "output_type": "execute_result"
    }
   ],
   "source": [
    "# try it out on a default avatar\n",
    "feature_vector = file_to_feature_vector(\"smoke-tests/default.png\")\n",
    "prediction = clf.predict([feature_vector])[0]\n",
    "prediction"
   ]
  },
  {
   "cell_type": "code",
   "execution_count": 19,
   "id": "0483afc1",
   "metadata": {},
   "outputs": [
    {
     "data": {
      "text/plain": [
       "['model.pkl']"
      ]
     },
     "execution_count": 19,
     "metadata": {},
     "output_type": "execute_result"
    }
   ],
   "source": [
    "# pickle the classifier! 🥒\n",
    "\n",
    "import joblib\n",
    "joblib.dump(clf, 'model.pkl', compress=9)"
   ]
  }
 ],
 "metadata": {
  "kernelspec": {
   "display_name": "Python 3 (ipykernel)",
   "language": "python",
   "name": "python3"
  },
  "language_info": {
   "codemirror_mode": {
    "name": "ipython",
    "version": 3
   },
   "file_extension": ".py",
   "mimetype": "text/x-python",
   "name": "python",
   "nbconvert_exporter": "python",
   "pygments_lexer": "ipython3",
   "version": "3.9.12"
  }
 },
 "nbformat": 4,
 "nbformat_minor": 5
}
